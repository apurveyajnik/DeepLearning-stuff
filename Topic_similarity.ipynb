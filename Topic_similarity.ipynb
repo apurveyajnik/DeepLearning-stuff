{
 "cells": [
  {
   "cell_type": "code",
   "execution_count": 1,
   "metadata": {
    "collapsed": false
   },
   "outputs": [],
   "source": [
    "import pandas as pd\n",
    "import numpy as np\n",
    "import matplotlib.pyplot as plt\n",
    "from gensim.models import Word2Vec\n",
    "%matplotlib inline\n",
    "import warnings; warnings.simplefilter('ignore')"
   ]
  },
  {
   "cell_type": "code",
   "execution_count": 2,
   "metadata": {
    "collapsed": false
   },
   "outputs": [
    {
     "data": {
      "text/plain": [
       "(127, 13)"
      ]
     },
     "execution_count": 2,
     "metadata": {},
     "output_type": "execute_result"
    }
   ],
   "source": [
    "csv = pd.read_csv(\"./dataset/indb_Grade_VIII_NCERT_Science.csv\")\n",
    "csv.shape"
   ]
  },
  {
   "cell_type": "code",
   "execution_count": 3,
   "metadata": {
    "collapsed": true
   },
   "outputs": [],
   "source": [
    "data = csv[['Segment_Title','Clean_Text']]"
   ]
  },
  {
   "cell_type": "code",
   "execution_count": 4,
   "metadata": {
    "collapsed": false
   },
   "outputs": [
    {
     "data": {
      "text/html": [
       "<div>\n",
       "<table border=\"1\" class=\"dataframe\">\n",
       "  <thead>\n",
       "    <tr style=\"text-align: right;\">\n",
       "      <th></th>\n",
       "      <th>Segment_Title</th>\n",
       "      <th>Clean_Text</th>\n",
       "    </tr>\n",
       "  </thead>\n",
       "  <tbody>\n",
       "    <tr>\n",
       "      <th>0</th>\n",
       "      <td>Agricultural Practices</td>\n",
       "      <td>Paheli and Boojho went to their uncles house d...</td>\n",
       "    </tr>\n",
       "    <tr>\n",
       "      <th>1</th>\n",
       "      <td>Basic Practices Of Crop Production</td>\n",
       "      <td>Cultivation of crops involves several activiti...</td>\n",
       "    </tr>\n",
       "    <tr>\n",
       "      <th>2</th>\n",
       "      <td>Preparation Of Soil</td>\n",
       "      <td>The preparation of soil is the first step befo...</td>\n",
       "    </tr>\n",
       "    <tr>\n",
       "      <th>3</th>\n",
       "      <td>Agricultural Implements</td>\n",
       "      <td>Before sowing the seeds it is necessary to bre...</td>\n",
       "    </tr>\n",
       "    <tr>\n",
       "      <th>4</th>\n",
       "      <td>Sowing</td>\n",
       "      <td>Sowing is the most important part of crop prod...</td>\n",
       "    </tr>\n",
       "  </tbody>\n",
       "</table>\n",
       "</div>"
      ],
      "text/plain": [
       "                        Segment_Title  \\\n",
       "0              Agricultural Practices   \n",
       "1  Basic Practices Of Crop Production   \n",
       "2                 Preparation Of Soil   \n",
       "3             Agricultural Implements   \n",
       "4                              Sowing   \n",
       "\n",
       "                                          Clean_Text  \n",
       "0  Paheli and Boojho went to their uncles house d...  \n",
       "1  Cultivation of crops involves several activiti...  \n",
       "2  The preparation of soil is the first step befo...  \n",
       "3  Before sowing the seeds it is necessary to bre...  \n",
       "4  Sowing is the most important part of crop prod...  "
      ]
     },
     "execution_count": 4,
     "metadata": {},
     "output_type": "execute_result"
    }
   ],
   "source": [
    "data.head(5)"
   ]
  },
  {
   "cell_type": "code",
   "execution_count": 5,
   "metadata": {
    "collapsed": false
   },
   "outputs": [],
   "source": [
    "model = Word2Vec.load(\"./dataset/clean_books_bigram_Feb_03_2017_sci_ss_no_stop_no_pos_tag.w2v\")"
   ]
  },
  {
   "cell_type": "code",
   "execution_count": 6,
   "metadata": {
    "collapsed": false
   },
   "outputs": [
    {
     "data": {
      "text/plain": [
       "<bound method IndexOpsMixin.unique of 0                               Agricultural Practices\n",
       "1                   Basic Practices Of Crop Production\n",
       "2                                  Preparation Of Soil\n",
       "3                              Agricultural Implements\n",
       "4                                               Sowing\n",
       "5                        Adding Manure And Fertilisers\n",
       "6                                           Irrigation\n",
       "7                                Protection From Weeds\n",
       "8                                           Harvesting\n",
       "9                                              Storage\n",
       "10                                   Food From Animals\n",
       "11                                      Microorganisms\n",
       "12                        Where Do Microorganisms Live\n",
       "13                               Microorganisms And Us\n",
       "14                              Harmful Microorganisms\n",
       "15                                   Food Preservation\n",
       "16                                   Nitrogen Fixation\n",
       "17                                      Nitrogen Cycle\n",
       "18                           What Are Synthetic Fibres\n",
       "19                           Types Of Synthetic Fibres\n",
       "20                 Characteristics Of Synthetic Fibres\n",
       "21                                            Plastics\n",
       "22                     Plastics As Materials Of Choice\n",
       "23                        Plastics And The Environment\n",
       "24         Physical Properties Of Metals And Nonmetals\n",
       "25         Chemical Properties Of Metals And Nonmetals\n",
       "26                       Uses Of Metals And Non Metals\n",
       "27                                                Coal\n",
       "28                                           Petroleum\n",
       "29                                         Natural Gas\n",
       "                            ...                       \n",
       "97                                 Charging By Rubbing\n",
       "98              Types Of Charges And Their Interaction\n",
       "99                                  Transfer Of Charge\n",
       "100                             The Story Of Lightning\n",
       "101                                   Lightning Safety\n",
       "102                                        Earthquakes\n",
       "103                          What Makes Things Visible\n",
       "104                                 Laws Of Reflection\n",
       "105                    Regular And Diffused Reflection\n",
       "106             Reflected Light Can Be Reflected Again\n",
       "107                                    Multiple Images\n",
       "108                         Sunlight White Or Coloured\n",
       "109                            What Is Inside Our Eyes\n",
       "110                                       Care Of Eyes\n",
       "111     Visually Challenged Persons Can Read And Write\n",
       "112                           What Is A Braille System\n",
       "113                                           The Moon\n",
       "114                                          The Stars\n",
       "115                                     Constellations\n",
       "116                                   The Solar System\n",
       "117             Some Other Members Of The Solar System\n",
       "118                                      Air Pollution\n",
       "119                          How Does Air Get Polluted\n",
       "120                           Case Study The Taj Mahal\n",
       "121                                  Greenhouse Effect\n",
       "122                  Air Pollution - What can be Done?\n",
       "123                                    Water Pollution\n",
       "124                        How Does Water Get Polluted\n",
       "125    What Is Potable Water And How Is Water Purified\n",
       "126                Water Pollution - What can be Done?\n",
       "Name: Segment_Title, dtype: object>"
      ]
     },
     "execution_count": 6,
     "metadata": {},
     "output_type": "execute_result"
    }
   ],
   "source": [
    "data.Segment_Title.unique"
   ]
  },
  {
   "cell_type": "code",
   "execution_count": 7,
   "metadata": {
    "collapsed": false
   },
   "outputs": [],
   "source": [
    "from nltk.corpus import stopwords\n",
    "from nltk.tokenize import word_tokenize\n",
    "import re\n",
    "\n",
    "text = data.Clean_Text\n",
    "word_lists = []\n",
    "text_vect = []\n",
    "\n",
    "for i in range(text.shape[0]):\n",
    "    text[i] = re.sub(\"[^a-zA-Z]\",\" \",text[i] ) \n",
    "    lower_case = text[i].lower()\n",
    "    tokenized_sents = word_tokenize(lower_case)\n",
    "    words = [w for w in tokenized_sents if not w in stopwords.words(\"english\")]\n",
    "    word_lists.append(words)\n",
    "word_lists = np.array(word_lists)\n",
    "\n",
    "word_avgs = []\n",
    "maxlen = len(max(word_lists,key=len))\n",
    "\n",
    "for i in range(word_lists.shape[0]):\n",
    "    words = word_lists[i]\n",
    "    vect = []\n",
    "    l=0\n",
    "    total = 0\n",
    "    for w in words:\n",
    "        try:\n",
    "            vect.append(model[w])\n",
    "            total = np.add(total,model[w])\n",
    "            s = model[w].shape\n",
    "            l=l+1\n",
    "        except:\n",
    "            vect.append(np.zeros(s))\n",
    "    word_avgs.append(np.divide(total,l))\n",
    "    text_vect.append(np.array(vect))\n",
    "    \"\"\"\n",
    "    if len(vect) < maxlen:\n",
    "        for k in range(maxlen - len(vect)):\n",
    "            vect.append(np.zeros(s))\n",
    "    \"\"\"\n",
    "    \n",
    "text_vect = np.array(text_vect)\n",
    "word_avgs = np.array(word_avgs)"
   ]
  },
  {
   "cell_type": "code",
   "execution_count": 8,
   "metadata": {
    "collapsed": false
   },
   "outputs": [
    {
     "data": {
      "text/plain": [
       "array([[  1.23560376e-01,  -1.11595809e-01,  -2.54032433e-01, ...,\n",
       "          1.03055656e-01,   1.51007935e-01,   5.92508852e-01],\n",
       "       [  7.04489291e-01,  -3.61195356e-01,  -3.33158463e-01, ...,\n",
       "          3.51453245e-01,  -2.08847895e-02,   9.05702233e-01],\n",
       "       [  5.05787551e-01,  -5.72174489e-01,  -2.69976169e-01, ...,\n",
       "          7.10366428e-01,  -6.25442564e-02,   9.11967635e-01],\n",
       "       [  2.94704586e-01,   6.36376033e-04,  -6.01942539e-01, ...,\n",
       "          2.03565359e-01,  -3.26837718e-01,   4.24244910e-01]], dtype=float32)"
      ]
     },
     "execution_count": 8,
     "metadata": {},
     "output_type": "execute_result"
    }
   ],
   "source": [
    "word_avgs[0:4]"
   ]
  },
  {
   "cell_type": "code",
   "execution_count": 9,
   "metadata": {
    "collapsed": true
   },
   "outputs": [],
   "source": [
    "import re, math\n",
    "from sklearn.metrics.pairwise import cosine_similarity\n",
    "\n",
    "def sent_to_vect(sent):\n",
    "    text = re.sub(\"[^a-zA-Z]\",\" \",sent ) \n",
    "    lower_case = text.lower()\n",
    "    tokenized_sents = word_tokenize(lower_case)\n",
    "    words = [w for w in tokenized_sents if not w in stopwords.words(\"english\")]\n",
    "    return words\n"
   ]
  },
  {
   "cell_type": "code",
   "execution_count": 10,
   "metadata": {
    "collapsed": false
   },
   "outputs": [],
   "source": [
    "q = []\n",
    "q.append(\"Multicellular organisms are composed of many cells. True or False.\")\n",
    "q.append(\"A major threat for the survival of organisms is deforestation.\")\n",
    "q.append(\"Lightening occurs when negatively changed clouds come in contact of positively charged clouds\")\n",
    "qvect = []\n",
    "qavgs = []\n",
    "for k in q:\n",
    "    words = sent_to_vect(k)\n",
    "    total = 0\n",
    "    l = 0\n",
    "    for w in words:\n",
    "        try:\n",
    "            vect.append(model[w])\n",
    "            total = np.add(total,model[w])\n",
    "            l=l+1\n",
    "            s = model[w].shape\n",
    "        except:\n",
    "            vect.append(np.zeros(s))\n",
    "    qavgs.append(np.divide(total,l))\n",
    "    qvect.append(vect)"
   ]
  },
  {
   "cell_type": "code",
   "execution_count": 14,
   "metadata": {
    "collapsed": false
   },
   "outputs": [],
   "source": [
    "c1 = []\n",
    "c2 = []\n",
    "c3 = []\n",
    "for i in range(len(text_vect)):\n",
    "    c1.append(float(cosine_similarity(word_avgs[i], qavgs[0])))\n",
    "    c2.append(float(cosine_similarity(word_avgs[i], qavgs[1])))\n",
    "    c3.append(float(cosine_similarity(word_avgs[i], qavgs[2])))\n",
    "\n",
    "\n",
    "def max_sim(c):\n",
    "    mi = []\n",
    "    tmp = list(c)\n",
    "    tmp.sort()\n",
    "    mi.append(c.index(float(tmp[-1])))\n",
    "    mi.append(c.index(float(tmp[-2])))\n",
    "    return mi\n",
    "warnings.simplefilter('ignore',category=\"DeprecationWarning\")"
   ]
  },
  {
   "cell_type": "code",
   "execution_count": 15,
   "metadata": {
    "collapsed": false
   },
   "outputs": [],
   "source": [
    "mi1 = max_sim(c1)\n",
    "mi2 = max_sim(c2)\n",
    "mi3 = max_sim(c3)"
   ]
  },
  {
   "cell_type": "code",
   "execution_count": 17,
   "metadata": {
    "collapsed": false
   },
   "outputs": [
    {
     "name": "stdout",
     "output_type": "stream",
     "text": [
      "For Sentence -- Multicellular organisms are composed of many cells. True or False.\n",
      "51                       The Cell\n",
      "53    Cell Structure And Function\n",
      "Name: Segment_Title, dtype: object\n",
      "******\n",
      "For Sentence -- A major threat for the survival of organisms is deforestation.\n",
      "38     Deforestation And Its Causes\n",
      "39    Consequences Of Deforestation\n",
      "Name: Segment_Title, dtype: object\n",
      "******\n",
      "For Sentence -- Lightening occurs when negatively changed clouds come in contact of positively charged clouds\n",
      "75                         Noncontact Forces\n",
      "98    Types Of Charges And Their Interaction\n",
      "Name: Segment_Title, dtype: object\n"
     ]
    }
   ],
   "source": [
    "print(\"For Sentence -- \"+q[0])\n",
    "print(data.loc[mi1,\"Segment_Title\"])\n",
    "print(\"******\")\n",
    "print(\"For Sentence -- \"+q[1])\n",
    "print(data.loc[mi2,\"Segment_Title\"])\n",
    "print(\"******\")\n",
    "print(\"For Sentence -- \"+q[2])\n",
    "print(data.loc[mi3,\"Segment_Title\"])\n"
   ]
  },
  {
   "cell_type": "code",
   "execution_count": 18,
   "metadata": {
    "collapsed": false
   },
   "outputs": [
    {
     "data": {
      "image/png": "[encoded data removed]",
      "text/plain": [
       "<matplotlib.figure.Figure at 0x7f18636064a8>"
      ]
     },
     "metadata": {},
     "output_type": "display_data"
    }
   ],
   "source": [
    "plt.plot(c1)\n",
    "plt.plot(c2)\n",
    "plt.plot(c3)\n",
    "plt.xlabel('Index')\n",
    "plt.ylabel('Cosine Similarity')\n",
    "plt.title('Histogram of Cosine Similarity')\n",
    "plt.grid(True)\n",
    "plt.savefig(\"cosin_sim.png\")\n",
    "plt.show()\n"
   ]
  },
  {
   "cell_type": "code",
   "execution_count": null,
   "metadata": {
    "collapsed": true
   },
   "outputs": [],
   "source": []
  }
 ],
 "metadata": {
  "anaconda-cloud": {},
  "kernelspec": {
   "display_name": "Python [conda env:nenv]",
   "language": "python",
   "name": "conda-env-nenv-py"
  },
  "language_info": {
   "codemirror_mode": {
    "name": "ipython",
    "version": 3
   },
   "file_extension": ".py",
   "mimetype": "text/x-python",
   "name": "python",
   "nbconvert_exporter": "python",
   "pygments_lexer": "ipython3",
   "version": "3.5.2"
  }
 },
 "nbformat": 4,
 "nbformat_minor": 1
}
